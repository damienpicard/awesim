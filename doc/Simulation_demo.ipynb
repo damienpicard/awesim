{
 "metadata": {
  "name": "Simulation_demo"
 },
 "nbformat": 3,
 "nbformat_minor": 0,
 "worksheets": [
  {
   "cells": [
    {
     "cell_type": "code",
     "collapsed": false,
     "input": [
      "a=range(10)"
     ],
     "language": "python",
     "metadata": {},
     "outputs": [],
     "prompt_number": 1
    },
    {
     "cell_type": "code",
     "collapsed": false,
     "input": [
      "a"
     ],
     "language": "python",
     "metadata": {},
     "outputs": [
      {
       "output_type": "pyout",
       "prompt_number": 2,
       "text": [
        "[0, 1, 2, 3, 4, 5, 6, 7, 8, 9]"
       ]
      }
     ],
     "prompt_number": 2
    },
    {
     "cell_type": "code",
     "collapsed": false,
     "input": [
      "from simman.simman import Simulation"
     ],
     "language": "python",
     "metadata": {},
     "outputs": [],
     "prompt_number": 3
    },
    {
     "cell_type": "code",
     "collapsed": false,
     "input": [
      "import os, sys\n",
      "os.getcwd()"
     ],
     "language": "python",
     "metadata": {},
     "outputs": [
      {
       "output_type": "pyout",
       "prompt_number": 4,
       "text": [
        "'C:\\\\Workspace\\\\Python\\\\SimulationManagement\\\\doc'"
       ]
      }
     ],
     "prompt_number": 4
    },
    {
     "cell_type": "code",
     "collapsed": false,
     "input": [
      "cd ../tests"
     ],
     "language": "python",
     "metadata": {},
     "outputs": [
      {
       "output_type": "stream",
       "stream": "stdout",
       "text": [
        "C:\\Workspace\\Python\\SimulationManagement\\tests\n"
       ]
      }
     ],
     "prompt_number": 6
    },
    {
     "cell_type": "code",
     "collapsed": false,
     "input": [
      "sim=Simulation('LinkedCapacities.mat')"
     ],
     "language": "python",
     "metadata": {},
     "outputs": [],
     "prompt_number": 7
    },
    {
     "cell_type": "code",
     "collapsed": false,
     "input": [
      "sim.names"
     ],
     "language": "python",
     "metadata": {},
     "outputs": [
      {
       "output_type": "pyout",
       "prompt_number": 9,
       "text": [
        "[u'Time',\n",
        " u'c1.heatPort.T',\n",
        " u'c1.heatPort.Q_flow',\n",
        " u'c1.C',\n",
        " u'c1.T',\n",
        " u'c1.der(T)',\n",
        " u'c2.heatPort.T',\n",
        " u'c2.heatPort.Q_flow',\n",
        " u'c2.C',\n",
        " u'c2.T',\n",
        " u'c2.der(T)',\n",
        " u'r.heatPort_a.T',\n",
        " u'r.heatPort_a.Q_flow',\n",
        " u'r.heatPort_b.T',\n",
        " u'r.heatPort_b.Q_flow',\n",
        " u'r.R']"
       ]
      }
     ],
     "prompt_number": 9
    },
    {
     "cell_type": "code",
     "collapsed": false,
     "input": [
      "sim.separate()"
     ],
     "language": "python",
     "metadata": {},
     "outputs": [
      {
       "output_type": "pyout",
       "prompt_number": 10,
       "text": [
        "True"
       ]
      }
     ],
     "prompt_number": 10
    },
    {
     "cell_type": "code",
     "collapsed": false,
     "input": [
      "sim.parameters"
     ],
     "language": "python",
     "metadata": {},
     "outputs": [
      {
       "output_type": "pyout",
       "prompt_number": 11,
       "text": [
        "[u'c1.C', u'c2.C', u'r.R']"
       ]
      }
     ],
     "prompt_number": 11
    },
    {
     "cell_type": "code",
     "collapsed": false,
     "input": [
      "sim.get_value('c1.T')"
     ],
     "language": "python",
     "metadata": {},
     "outputs": [
      {
       "output_type": "pyout",
       "prompt_number": 13,
       "text": [
        "array([ 400.        ,  394.90524292,  390.63452148,  387.06240845,\n",
        "        384.08087158,  381.5881958 ,  379.50305176,  377.75805664,\n",
        "        376.29608154,  375.07043457,  374.04342651,  373.1831665 ,\n",
        "        372.46203613,  371.85726929,  371.35040283,  370.92440796,\n",
        "        370.5663147 ,  370.26568604,  370.01528931,  369.80883789,\n",
        "        369.63793945,  369.49505615,  369.37789917,  369.27865601,\n",
        "        369.19534302,  369.12600708,  369.0663147 ,  369.01712036,\n",
        "        368.974823  ,  368.93948364,  368.90960693,  368.88418579,\n",
        "        368.86300659,  368.84487915,  368.82965088,  368.81677246,\n",
        "        368.80578613,  368.79638672,  368.78833008,  368.78152466,\n",
        "        368.77590942,  368.77084351,  368.76651001,  368.76287842,\n",
        "        368.76000977,  368.7578125 ,  368.75567627,  368.75393677,\n",
        "        368.75262451,  368.7517395 ,  368.7512207 ], dtype=float32)"
       ]
      }
     ],
     "prompt_number": 13
    },
    {
     "cell_type": "code",
     "collapsed": false,
     "input": [
      "sim.exist('flow')"
     ],
     "language": "python",
     "metadata": {},
     "outputs": [
      {
       "output_type": "pyout",
       "prompt_number": 14,
       "text": [
        "[u'c1.heatPort.Q_flow',\n",
        " u'c2.heatPort.Q_flow',\n",
        " u'r.heatPort_a.Q_flow',\n",
        " u'r.heatPort_b.Q_flow']"
       ]
      }
     ],
     "prompt_number": 14
    },
    {
     "cell_type": "code",
     "collapsed": false,
     "input": [
      "sim.get_value(_[0])"
     ],
     "language": "python",
     "metadata": {},
     "outputs": [
      {
       "output_type": "pyout",
       "prompt_number": 15,
       "text": [
        "array([-16.66666603, -13.94945908, -11.67174625,  -9.76662064,\n",
        "        -8.17646122,  -6.84704447,  -5.73496342,  -4.80429745,\n",
        "        -4.02458429,  -3.37089443,  -2.8231647 ,  -2.36435223,\n",
        "        -1.97975922,  -1.65721416,  -1.38687682,  -1.15968394,\n",
        "        -0.96869361,  -0.8083666 ,  -0.67481321,  -0.56471747,\n",
        "        -0.47356313,  -0.39735669,  -0.33487868,  -0.28195667,\n",
        "        -0.23752058,  -0.20053294,  -0.16870825,  -0.14247204,\n",
        "        -0.11990179,  -0.10105903,  -0.08511797,  -0.07156019,\n",
        "        -0.06026352,  -0.05059919,  -0.04248295,  -0.03560873,\n",
        "        -0.02975156,  -0.0247334 ,  -0.02044593,  -0.01681487,\n",
        "        -0.01381052,  -0.01111626,  -0.00880407,  -0.00687151,\n",
        "        -0.0053329 ,  -0.00416404,  -0.00302849,  -0.00210657,\n",
        "        -0.00140184,  -0.00093066,  -0.00064751], dtype=float32)"
       ]
      }
     ],
     "prompt_number": 15
    },
    {
     "cell_type": "code",
     "collapsed": false,
     "input": [
      "sim.get_objects('c1.heatPort')"
     ],
     "language": "python",
     "metadata": {},
     "outputs": [
      {
       "output_type": "pyout",
       "prompt_number": 19,
       "text": [
        "[u'T', u'Q_flow']"
       ]
      }
     ],
     "prompt_number": 19
    },
    {
     "cell_type": "code",
     "collapsed": false,
     "input": [
      "sim.extract({'T':'c1.T'})"
     ],
     "language": "python",
     "metadata": {},
     "outputs": [
      {
       "output_type": "pyout",
       "prompt_number": 20,
       "text": [
        "{'T': array([ 400.        ,  394.90524292,  390.63452148,  387.06240845,\n",
        "        384.08087158,  381.5881958 ,  379.50305176,  377.75805664,\n",
        "        376.29608154,  375.07043457,  374.04342651,  373.1831665 ,\n",
        "        372.46203613,  371.85726929,  371.35040283,  370.92440796,\n",
        "        370.5663147 ,  370.26568604,  370.01528931,  369.80883789,\n",
        "        369.63793945,  369.49505615,  369.37789917,  369.27865601,\n",
        "        369.19534302,  369.12600708,  369.0663147 ,  369.01712036,\n",
        "        368.974823  ,  368.93948364,  368.90960693,  368.88418579,\n",
        "        368.86300659,  368.84487915,  368.82965088,  368.81677246,\n",
        "        368.80578613,  368.79638672,  368.78833008,  368.78152466,\n",
        "        368.77590942,  368.77084351,  368.76651001,  368.76287842,\n",
        "        368.76000977,  368.7578125 ,  368.75567627,  368.75393677,\n",
        "        368.75262451,  368.7517395 ,  368.7512207 ], dtype=float32)}"
       ]
      }
     ],
     "prompt_number": 20
    },
    {
     "cell_type": "code",
     "collapsed": false,
     "input": [],
     "language": "python",
     "metadata": {},
     "outputs": []
    }
   ],
   "metadata": {}
  }
 ]
}